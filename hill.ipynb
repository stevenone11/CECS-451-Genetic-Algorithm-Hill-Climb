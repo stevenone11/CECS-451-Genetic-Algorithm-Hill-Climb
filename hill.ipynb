{
 "cells": [
  {
   "cell_type": "code",
   "execution_count": 2,
   "metadata": {},
   "outputs": [],
   "source": [
    "# Parth Chhasatiya\n",
    "# Steven Centeno\n",
    "# Shoraj Manandhar\n",
    "\n",
    "import random # used for random restart\n",
    "import time # used to calculate runtime\n",
    "from board import Board # used to access the Board class and all of its' methods\n",
    "\n",
    "# This part of the code is the Hill Climb algorithm. This will solve the five-queens problem by taking in an initial state as input, using the fitness() function to\n",
    "# calculate how many attacking pairs it has, and then moving one of the queens to a different column, one column at a time, comparing the fitness values of the initial\n",
    "# state and the current state to find which column results in the smallest fitness value for that row. It will then do the same for every row until the fitness is 0\n",
    "# or a local maxima is reached, in which case a random restart will occur, starting the algorithm over.\n",
    "def hillClimb(test, testTwo, restart):\n",
    "\n",
    "    current = test # current state of the board\n",
    "    current.fitness() # call this to recalculate the fitness value of the board when a random restart happens\n",
    "    next = testTwo # next state of the board\n",
    "    # Use a nested for loop in order to iterate through every column in each row, starting with the first row.\n",
    "    for i in range(current.n_queen):\n",
    "        for j in range(current.n_queen):\n",
    "            currentFit = current.get_fit() # fitness value of the current state\n",
    "            currentQueen = current.queens[i] # queen node from the i'th row of the current board\n",
    "            currentQueenCol = currentQueen.getCol() # get the column the queen of the i'th row is in\n",
    "\n",
    "            # If the fitness value of the current state is 0, then that means there are no more attacking pairs in the current state. This will print the number of\n",
    "            # restarts it took to get to the solution and display the matrix of the current state of the board.\n",
    "            if currentFit == 0:\n",
    "                print(\"Number of restarts: \", restart)\n",
    "                current.show()\n",
    "                return\n",
    "            # If the fitness value of the current state is not 0 then move the queen of the i'th row to a new column and call that the next state. Then compare the\n",
    "            # fitness values of the next state and the current state to see whether or not to set the next state as the current state, or keep the current state\n",
    "            # and move the queen to the next column.\n",
    "            else:\n",
    "                # If the column of the current queen is the same as the j iterator that means the next state will just be the same as the current state, so continue\n",
    "                # onto the next iteration of j.\n",
    "                if currentQueenCol == j:\n",
    "                    continue\n",
    "                else:\n",
    "                    # Remove the queen from the next state column it is in and move it to the j'th column of the board.\n",
    "                    next.removeQueen(i, currentQueenCol) \n",
    "                    next.setQueen(i, j)\n",
    "                    next.fitness() # Calculate the fitness value now that the queen has moved to a new column in the next state.\n",
    "                    nextFit = next.get_fit()\n",
    "                    # If the fitness value of the next state is smaller than that of the current state, make the next state the current state.\n",
    "                    if nextFit < currentFit:\n",
    "                        current = next\n",
    "                    else:\n",
    "                        continue\n",
    "    # This section of the code will utilize the random restart function that is necessary when a local maxima is reached and the algorithm cannot find new queen\n",
    "    # placements which result in a lower fitness value on the board\n",
    "    randomProb = random.uniform(0, 1)\n",
    "    if current == test:\n",
    "        if randomProb > 0.8:\n",
    "            restartBoard = Board(5)\n",
    "            restartBoard.copy(next)\n",
    "            hillClimb(restartBoard, next, restart + 1)\n",
    "        else:\n",
    "            hillClimb(current, next, restart)\n",
    "    else:\n",
    "        hillClimb(current, next, restart)"
   ]
  },
  {
   "cell_type": "code",
   "execution_count": 3,
   "metadata": {},
   "outputs": [
    {
     "name": "stdout",
     "output_type": "stream",
     "text": [
      "Number of restarts:  80\n",
      "[[0 0 0 1 0]\n",
      " [1 0 0 0 0]\n",
      " [0 0 1 0 0]\n",
      " [0 0 0 0 1]\n",
      " [0 1 0 0 0]]\n",
      "Fitness:  0\n",
      "Running time: 302.28 ms\n"
     ]
    }
   ],
   "source": [
    "if __name__ == '__main__':\n",
    "    test = Board(5)\n",
    "    test.fitness()\n",
    "    \n",
    "    testTwo = Board(5)\n",
    "    test.copy(testTwo)\n",
    "\n",
    "    restarts = 0 # number of restarts\n",
    "    start_time = time.time() # used at the end of the program to calculate the total runtime of the algorithm\n",
    "    hillClimb(test, testTwo, restarts) # pass in the board as the current state and the copy of the board as the next state\n",
    "    print(\"Running time: {0:.2f} ms\".format((1000*(time.time() - start_time)))) # multiply by 1000 to get time in milliseconds\n"
   ]
  },
  {
   "cell_type": "code",
   "execution_count": null,
   "metadata": {},
   "outputs": [],
   "source": []
  }
 ],
 "metadata": {
  "kernelspec": {
   "display_name": "Python 3",
   "language": "python",
   "name": "python3"
  },
  "language_info": {
   "codemirror_mode": {
    "name": "ipython",
    "version": 3
   },
   "file_extension": ".py",
   "mimetype": "text/x-python",
   "name": "python",
   "nbconvert_exporter": "python",
   "pygments_lexer": "ipython3",
   "version": "3.8.1"
  }
 },
 "nbformat": 4,
 "nbformat_minor": 4
}
